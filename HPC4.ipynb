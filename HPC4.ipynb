{
  "nbformat": 4,
  "nbformat_minor": 0,
  "metadata": {
    "colab": {
      "provenance": [],
      "gpuType": "T4"
    },
    "kernelspec": {
      "name": "python3",
      "display_name": "Python 3"
    },
    "language_info": {
      "name": "python"
    },
    "accelerator": "GPU",
    "gpuClass": "standard"
  },
  "cells": [
    {
      "cell_type": "code",
      "execution_count": 50,
      "metadata": {
        "id": "zVdHPeGx1euw"
      },
      "outputs": [],
      "source": [
        "code = \"\"\"\n",
        "#include <iostream>\n",
        "#include <cuda.h>\n",
        "\n",
        "__global__\n",
        "void vectorAddition(const int* A, const int* B, int* C, int size) {\n",
        "    int tid = blockIdx.x * blockDim.x + threadIdx.x;\n",
        "\n",
        "    if (tid < size) {\n",
        "        C[tid] = A[tid] + B[tid];\n",
        "    }\n",
        "}\n",
        "\n",
        "int main() {\n",
        "    int size = 1000000;  // Size of the vectors\n",
        "    int* A, * B, * C;    // Host vectors\n",
        "    int* d_A, * d_B, * d_C;  // Device vectors\n",
        "\n",
        "    // Allocate memory for host vectors\n",
        "    A = new int[size];\n",
        "    B = new int[size];\n",
        "    C = new int[size];\n",
        "\n",
        "    // Initialize input vectors\n",
        "    for (int i = 0; i < size; ++i) {\n",
        "        A[i] = 1;\n",
        "        B[i] = 2;\n",
        "    }\n",
        "\n",
        "    // Allocate memory for device vectors\n",
        "    cudaMalloc((void**)&d_A, size * sizeof(int));\n",
        "    cudaMalloc((void**)&d_B, size * sizeof(int));\n",
        "    cudaMalloc((void**)&d_C, size * sizeof(int));\n",
        "\n",
        "    // Copy input vectors from host to device\n",
        "    cudaMemcpy(d_A, A, size * sizeof(int), cudaMemcpyHostToDevice);\n",
        "    cudaMemcpy(d_B, B, size * sizeof(int), cudaMemcpyHostToDevice);\n",
        "\n",
        "    // Define the number of threads per block and the number of blocks\n",
        "    int threadsPerBlock = 256;\n",
        "    int blocksPerGrid = (size + threadsPerBlock - 1) / threadsPerBlock;\n",
        "\n",
        "    // Launch the vector addition kernel\n",
        "    vectorAddition<<<blocksPerGrid, threadsPerBlock>>>(d_A, d_B, d_C, size);\n",
        "\n",
        "    // Copy the result from the device to the host\n",
        "    cudaMemcpy(C, d_C, size * sizeof(int), cudaMemcpyDeviceToHost);\n",
        "\n",
        "    // Print the result\n",
        "    for (int i = 0; i < size; ++i) {\n",
        "        if(C[i]!=3)\n",
        "          std::cout<<\"error\";\n",
        "    }\n",
        "    std::cout <<\"success \"<< std::endl;\n",
        "\n",
        "    // Free device memory\n",
        "    cudaFree(d_A);\n",
        "    cudaFree(d_B);\n",
        "    cudaFree(d_C);\n",
        "\n",
        "    // Free host memory\n",
        "    delete[] A;\n",
        "    delete[] B;\n",
        "    delete[] C;\n",
        "\n",
        "    return 0;\n",
        "}\n",
        "\n",
        "\"\"\"\n"
      ]
    },
    {
      "cell_type": "code",
      "source": [
        "text_file = open(\"assign1.cu\", \"w\")\n",
        "text_file.write(code)\n",
        "text_file.close()"
      ],
      "metadata": {
        "id": "2Jw3zJ7z2FIm"
      },
      "execution_count": 51,
      "outputs": []
    },
    {
      "cell_type": "code",
      "source": [
        "!nvcc assign1.cu"
      ],
      "metadata": {
        "id": "W_AH4Wcg2JV0"
      },
      "execution_count": 52,
      "outputs": []
    },
    {
      "cell_type": "code",
      "source": [
        "!./a.out"
      ],
      "metadata": {
        "colab": {
          "base_uri": "https://localhost:8080/"
        },
        "id": "qNtUCwM32MBX",
        "outputId": "d2ebe357-2e9e-42c3-8d10-2564a743d340"
      },
      "execution_count": 53,
      "outputs": [
        {
          "output_type": "stream",
          "name": "stdout",
          "text": [
            "success \n"
          ]
        }
      ]
    },
    {
      "cell_type": "code",
      "source": [
        "!nvprof ./a.out"
      ],
      "metadata": {
        "colab": {
          "base_uri": "https://localhost:8080/"
        },
        "id": "dXV2-wJI2QZN",
        "outputId": "3487b536-defe-4726-b185-d6148e19375a"
      },
      "execution_count": 54,
      "outputs": [
        {
          "output_type": "stream",
          "name": "stdout",
          "text": [
            "==8431== NVPROF is profiling process 8431, command: ./a.out\n",
            "success \n",
            "==8431== Profiling application: ./a.out\n",
            "==8431== Profiling result:\n",
            "            Type  Time(%)      Time     Calls       Avg       Min       Max  Name\n",
            " GPU activities:   51.86%  1.6000ms         1  1.6000ms  1.6000ms  1.6000ms  [CUDA memcpy DtoH]\n",
            "                   46.62%  1.4382ms         2  719.11us  688.98us  749.24us  [CUDA memcpy HtoD]\n",
            "                    1.52%  47.039us         1  47.039us  47.039us  47.039us  vectorAddition(int const *, int const *, int*, int)\n",
            "      API calls:   97.47%  212.07ms         3  70.690ms  69.182us  211.93ms  cudaMalloc\n",
            "                    2.19%  4.7655ms         3  1.5885ms  932.41us  2.8717ms  cudaMemcpy\n",
            "                    0.25%  554.24us         3  184.75us  136.71us  210.97us  cudaFree\n",
            "                    0.06%  120.52us       101  1.1930us     127ns  51.553us  cuDeviceGetAttribute\n",
            "                    0.01%  30.347us         1  30.347us  30.347us  30.347us  cudaLaunchKernel\n",
            "                    0.01%  24.244us         1  24.244us  24.244us  24.244us  cuDeviceGetName\n",
            "                    0.00%  6.1710us         1  6.1710us  6.1710us  6.1710us  cuDeviceGetPCIBusId\n",
            "                    0.00%  1.9150us         3     638ns     194ns  1.4050us  cuDeviceGetCount\n",
            "                    0.00%     944ns         2     472ns     233ns     711ns  cuDeviceGet\n",
            "                    0.00%     448ns         1     448ns     448ns     448ns  cuModuleGetLoadingMode\n",
            "                    0.00%     345ns         1     345ns     345ns     345ns  cuDeviceTotalMem\n",
            "                    0.00%     231ns         1     231ns     231ns     231ns  cuDeviceGetUuid\n"
          ]
        }
      ]
    },
    {
      "cell_type": "code",
      "source": [
        "code2 = \"\"\"\n",
        "#include <iostream>\n",
        "#include <cuda.h>\n",
        "\n",
        "const int N = 4;  // Matrix size\n",
        "\n",
        "// Kernel for matrix multiplication\n",
        "__global__\n",
        "void matrixMultiplication(const int* A, const int* B, int* C, int n) {\n",
        "    int row = blockIdx.y * blockDim.y + threadIdx.y;\n",
        "    int col = blockIdx.x * blockDim.x + threadIdx.x;\n",
        "\n",
        "    if (row < n && col < n) {\n",
        "        int sum = 0;\n",
        "        for (int k = 0; k < n; ++k) {\n",
        "            sum += A[row * n + k] * B[k * n + col];\n",
        "        }\n",
        "        C[row * n + col] = sum;\n",
        "    }\n",
        "}\n",
        "\n",
        "int main() {\n",
        "    int A[N][N] = {{1, 2, 3, 4},\n",
        "                   {5, 6, 7, 8},\n",
        "                   {9, 10, 11, 12},\n",
        "                   {13, 14, 15, 16}};\n",
        "\n",
        "    int B[N][N] = {{1, 0, 0, 0},\n",
        "                   {0, 1, 0, 0},\n",
        "                   {0, 0, 1, 0},\n",
        "                   {0, 0, 0, 1}};\n",
        "\n",
        "    int C[N][N] = {0};\n",
        "\n",
        "    int* d_A, * d_B, * d_C;  // Device matrices\n",
        "\n",
        "    // Allocate memory for device matrices\n",
        "    cudaMalloc((void**)&d_A, N * N * sizeof(int));\n",
        "    cudaMalloc((void**)&d_B, N * N * sizeof(int));\n",
        "    cudaMalloc((void**)&d_C, N * N * sizeof(int));\n",
        "\n",
        "    // Copy input matrices from host to device\n",
        "    cudaMemcpy(d_A, A, N * N * sizeof(int), cudaMemcpyHostToDevice);\n",
        "    cudaMemcpy(d_B, B, N * N * sizeof(int), cudaMemcpyHostToDevice);\n",
        "\n",
        "    // Define the number of threads per block and the number of blocks\n",
        "    int threadsPerBlock = 2;\n",
        "    dim3 blocksPerGrid((N + threadsPerBlock - 1) / threadsPerBlock, (N + threadsPerBlock - 1) / threadsPerBlock);\n",
        "\n",
        "    // Launch the matrix multiplication kernel\n",
        "    matrixMultiplication<<<blocksPerGrid, dim3(threadsPerBlock, threadsPerBlock)>>>(d_A, d_B, d_C, N);\n",
        "\n",
        "    // Copy the result from the device to the host\n",
        "    cudaMemcpy(C, d_C, N * N * sizeof(int), cudaMemcpyDeviceToHost);\n",
        "\n",
        "    // Print the result\n",
        "    for (int i = 0; i < N; ++i) {\n",
        "        for (int j = 0; j < N; ++j) {\n",
        "            std::cout << C[i][j] << \" \";\n",
        "        }\n",
        "        std::cout << std::endl;\n",
        "    }\n",
        "\n",
        "    // Free device memory\n",
        "    cudaFree(d_A);\n",
        "    cudaFree(d_B);\n",
        "    cudaFree(d_C);\n",
        "\n",
        "    return 0;\n",
        "}\n",
        "\n",
        "\n",
        "\"\"\""
      ],
      "metadata": {
        "id": "ke5hcLP73MKe"
      },
      "execution_count": 55,
      "outputs": []
    },
    {
      "cell_type": "code",
      "source": [
        "text_file = open(\"assign2.cu\", \"w\")\n",
        "text_file.write(code2)\n",
        "text_file.close()"
      ],
      "metadata": {
        "id": "sdA7rk964Lvc"
      },
      "execution_count": 56,
      "outputs": []
    },
    {
      "cell_type": "code",
      "source": [
        "!nvcc assign2.cu -o b"
      ],
      "metadata": {
        "id": "vjr4AIyp4QXi"
      },
      "execution_count": 57,
      "outputs": []
    },
    {
      "cell_type": "code",
      "source": [
        "!./b"
      ],
      "metadata": {
        "colab": {
          "base_uri": "https://localhost:8080/"
        },
        "id": "1pkDYiq64U8_",
        "outputId": "07b1d4c4-c9c8-4952-ab7a-30e3f3b29acb"
      },
      "execution_count": 58,
      "outputs": [
        {
          "output_type": "stream",
          "name": "stdout",
          "text": [
            "1 2 3 4 \n",
            "5 6 7 8 \n",
            "9 10 11 12 \n",
            "13 14 15 16 \n"
          ]
        }
      ]
    },
    {
      "cell_type": "code",
      "source": [
        "!nvprof ./b"
      ],
      "metadata": {
        "colab": {
          "base_uri": "https://localhost:8080/"
        },
        "id": "VIlIYI994ckF",
        "outputId": "214d282b-5b6a-4e68-d9fa-24f1a8056b11"
      },
      "execution_count": 59,
      "outputs": [
        {
          "output_type": "stream",
          "name": "stdout",
          "text": [
            "==8542== NVPROF is profiling process 8542, command: ./b\n",
            "1 2 3 4 \n",
            "5 6 7 8 \n",
            "9 10 11 12 \n",
            "13 14 15 16 \n",
            "==8542== Profiling application: ./b\n",
            "==8542== Profiling result:\n",
            "            Type  Time(%)      Time     Calls       Avg       Min       Max  Name\n",
            " GPU activities:   48.48%  5.1200us         1  5.1200us  5.1200us  5.1200us  matrixMultiplication(int const *, int const *, int*, int)\n",
            "                   31.52%  3.3280us         2  1.6640us  1.4080us  1.9200us  [CUDA memcpy HtoD]\n",
            "                   20.00%  2.1120us         1  2.1120us  2.1120us  2.1120us  [CUDA memcpy DtoH]\n",
            "      API calls:   99.82%  215.21ms         3  71.738ms  4.9780us  215.20ms  cudaMalloc\n",
            "                    0.07%  140.75us         3  46.916us  5.3360us  124.78us  cudaFree\n",
            "                    0.06%  133.25us       101  1.3190us     136ns  52.252us  cuDeviceGetAttribute\n",
            "                    0.03%  54.061us         3  18.020us  8.3050us  23.556us  cudaMemcpy\n",
            "                    0.01%  26.139us         1  26.139us  26.139us  26.139us  cudaLaunchKernel\n",
            "                    0.01%  25.422us         1  25.422us  25.422us  25.422us  cuDeviceGetName\n",
            "                    0.00%  6.7660us         1  6.7660us  6.7660us  6.7660us  cuDeviceGetPCIBusId\n",
            "                    0.00%  1.5180us         3     506ns     208ns  1.0160us  cuDeviceGetCount\n",
            "                    0.00%     977ns         2     488ns     163ns     814ns  cuDeviceGet\n",
            "                    0.00%     499ns         1     499ns     499ns     499ns  cuModuleGetLoadingMode\n",
            "                    0.00%     339ns         1     339ns     339ns     339ns  cuDeviceTotalMem\n",
            "                    0.00%     237ns         1     237ns     237ns     237ns  cuDeviceGetUuid\n"
          ]
        }
      ]
    },
    {
      "cell_type": "code",
      "source": [],
      "metadata": {
        "id": "Abbq25A14sZQ"
      },
      "execution_count": null,
      "outputs": []
    }
  ]
}